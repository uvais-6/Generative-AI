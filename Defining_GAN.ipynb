{
  "nbformat": 4,
  "nbformat_minor": 0,
  "metadata": {
    "colab": {
      "provenance": [],
      "gpuType": "T4",
      "include_colab_link": true
    },
    "kernelspec": {
      "name": "python3",
      "display_name": "Python 3"
    },
    "language_info": {
      "name": "python"
    },
    "accelerator": "GPU"
  },
  "cells": [
    {
      "cell_type": "markdown",
      "metadata": {
        "id": "view-in-github",
        "colab_type": "text"
      },
      "source": [
        "<a href=\"https://colab.research.google.com/github/uvais-6/Generative-AI/blob/main/Defining_GAN.ipynb\" target=\"_parent\"><img src=\"https://colab.research.google.com/assets/colab-badge.svg\" alt=\"Open In Colab\"/></a>"
      ]
    },
    {
      "cell_type": "markdown",
      "source": [
        "## Generative Adversarial Networks"
      ],
      "metadata": {
        "id": "Ers_CxL2zAcW"
      }
    },
    {
      "cell_type": "markdown",
      "source": [
        "### Import Required libraries"
      ],
      "metadata": {
        "id": "hnfwZzqay8yO"
      }
    },
    {
      "cell_type": "code",
      "source": [
        "import torch\n",
        "import torch.nn as nn\n",
        "import torch.optim as optim\n",
        "import torchvision\n",
        "from torchvision import datasets, transforms\n",
        "import matplotlib.pyplot as plt\n",
        "import numpy as np\n",
        "\n",
        "# Set device\n",
        "device = torch.device(\"cuda\" if torch.cuda.is_available() else \"cpu\")"
      ],
      "metadata": {
        "id": "rDYhLLaMyibN"
      },
      "execution_count": null,
      "outputs": []
    },
    {
      "cell_type": "markdown",
      "source": [
        "### Defining a transform"
      ],
      "metadata": {
        "id": "fLf-lHpIyleE"
      }
    },
    {
      "cell_type": "code",
      "source": [
        "transform = transforms.Compose([\n",
        "    transforms.ToTensor(),\n",
        "    transforms.Normalize((0.5,0.5,0.5),(0.5,0.5,0.5))\n",
        "])"
      ],
      "metadata": {
        "id": "lK8SYQjeyj0t"
      },
      "execution_count": null,
      "outputs": []
    },
    {
      "cell_type": "markdown",
      "source": [
        "### Load the Dataset"
      ],
      "metadata": {
        "id": "QW7K8udxzphd"
      }
    },
    {
      "cell_type": "code",
      "source": [
        "train_dataset = datasets.CIFAR10(root='./data', train=True, download=True, transform=transform)\n",
        "dataloader = torch.utils.data.DataLoader(train_dataset, batch_size=32, shuffle=True)"
      ],
      "metadata": {
        "colab": {
          "base_uri": "https://localhost:8080/"
        },
        "id": "iQ_0RpZBzpB1",
        "outputId": "cab756f1-5d59-4cd7-b80a-60cbac1173e3"
      },
      "execution_count": null,
      "outputs": [
        {
          "output_type": "stream",
          "name": "stdout",
          "text": [
            "Files already downloaded and verified\n"
          ]
        }
      ]
    },
    {
      "cell_type": "code",
      "source": [
        "# Hyperparameters\n",
        "latent_dim = 100\n",
        "lr = 0.0002\n",
        "beta1 = 0.5\n",
        "beta2 = 0.999\n",
        "num_epochs = 10"
      ],
      "metadata": {
        "id": "h83gjh4NztSu"
      },
      "execution_count": null,
      "outputs": []
    },
    {
      "cell_type": "markdown",
      "source": [
        "### Define Generator"
      ],
      "metadata": {
        "id": "G1nL9mqe1Gwl"
      }
    },
    {
      "cell_type": "code",
      "source": [
        "class Generator(nn.Module):\n",
        "    def __init__(self,latent_dim):\n",
        "        super(Generator, self).__init__()\n",
        "        self.model = nn.Sequential(\n",
        "            nn.Linear(latent_dim, 128*8*8),\n",
        "            nn.ReLU(),\n",
        "            nn.Unflatten(1,(128,8,8)),\n",
        "            nn.Upsample(scale_factor=2),\n",
        "            nn.Conv2d(128, 128, kernel_size=3, padding=1),\n",
        "            nn.BatchNorm2d(128, momentum = 0.78),\n",
        "            nn.ReLU(),\n",
        "            nn.Conv2d(64,3,kernel_size=3,padding=1),\n",
        "            nn.Tanh()\n",
        "        )\n",
        "    def forward(self,z):\n",
        "        img = self.model(z)\n",
        "        return img"
      ],
      "metadata": {
        "id": "cWZrlLWj05Xl"
      },
      "execution_count": null,
      "outputs": []
    },
    {
      "cell_type": "markdown",
      "source": [
        "### Define the Discriminator"
      ],
      "metadata": {
        "id": "MrIjYFEH5kjG"
      }
    },
    {
      "cell_type": "code",
      "source": [
        "def __init__(self):\n",
        "    super(Discriminator, self).__init__()\n",
        "    self.model = nn.Sequential(\n",
        "        nn.Conv2d(3,32,kernel_size=3,padding=1, stride=2),\n",
        "        nn.ZeroPad2d((0,1,0,1)),\n",
        "        nn.BatchNorm2d(64, momentum=0.8),\n",
        "        nn.LeakyReLU(0.2),\n",
        "        nn.Dropout(0.25),\n",
        "        nn.Conv2d(32,64,kernel_size=3,padding=1, stride=2),\n",
        "        nn.BatchNorm2d(128, momentum=0.8),\n",
        "        nn.LeakyReLU(0.2),\n",
        "        nn.Dropout(0.25),\n",
        "        nn.Conv2d(64,128,kernel_size=3,padding=1, stride=2),\n",
        "        nn.BatchNorm2d(128, momentum=0.8),\n",
        "        nn.LeakyReLU(0.2),\n",
        "        nn.Dropout(0.25),\n",
        "        nn.Conv2d(128,256,kernel_size=3,padding=1, stride=2),\n",
        "        nn.BatchNorm2d(256, momentum=0.8),\n",
        "        nn.LeakyReLU(0.2),\n",
        "        nn.Dropout(0.25),\n",
        "        nn.Flatten(),\n",
        "        nn.Linear(256*5*5,1),\n",
        "        nn.Sigmoid()\n",
        "    )\n",
        "def forward(self,img):\n",
        "    validity = self.model(img)\n",
        "    return validity"
      ],
      "metadata": {
        "id": "H9_NKNvy57O9"
      },
      "execution_count": null,
      "outputs": []
    },
    {
      "cell_type": "code",
      "source": [],
      "metadata": {
        "id": "u6ePqQaj7PbZ"
      },
      "execution_count": null,
      "outputs": []
    }
  ]
}